{
 "cells": [
  {
   "cell_type": "markdown",
   "metadata": {
    "id": "kojWNXa0nYM3"
   },
   "source": [
    "ASSIGNMENT 1 B"
   ]
  },
  {
   "cell_type": "markdown",
   "metadata": {},
   "source": [
    "DATE: 16/07/24"
   ]
  },
  {
   "cell_type": "markdown",
   "metadata": {
    "id": "6wT6MqjojIgv"
   },
   "source": [
    "1. Print first 20 lines of the dataset"
   ]
  },
  {
   "cell_type": "code",
   "execution_count": 1,
   "metadata": {
    "id": "IDeSbeovh6-q"
   },
   "outputs": [],
   "source": [
    "import pandas as pd\n",
    "import matplotlib.pyplot as plt\n",
    "import seaborn as sns"
   ]
  },
  {
   "cell_type": "code",
   "execution_count": null,
   "metadata": {
    "id": "cvHFKqZujWXr"
   },
   "outputs": [],
   "source": [
    "df = pd.read_csv(\"WineQT (1).csv\")\n",
    "print(\"First 20 rows\\n\")\n",
    "print(df.head(20))"
   ]
  },
  {
   "cell_type": "markdown",
   "metadata": {
    "id": "5OjjSTSSj9Zi"
   },
   "source": [
    "2. What is the shape of the dataset?"
   ]
  },
  {
   "cell_type": "code",
   "execution_count": 5,
   "metadata": {
    "colab": {
     "base_uri": "https://localhost:8080/"
    },
    "id": "o4T2WbhVj_wy",
    "outputId": "5f13ff23-de49-472f-ad32-63aba18471e2"
   },
   "outputs": [
    {
     "name": "stdout",
     "output_type": "stream",
     "text": [
      "(1143, 13)\n"
     ]
    }
   ],
   "source": [
    "print(df.shape)"
   ]
  },
  {
   "cell_type": "markdown",
   "metadata": {
    "id": "xAgkzF_akRHs"
   },
   "source": [
    "3. Apply .info() on the dataset"
   ]
  },
  {
   "cell_type": "code",
   "execution_count": 16,
   "metadata": {
    "colab": {
     "base_uri": "https://localhost:8080/"
    },
    "id": "XkT1Bx-4kXWC",
    "outputId": "fbd81bde-af23-4784-f134-59be7e1003e9"
   },
   "outputs": [
    {
     "name": "stdout",
     "output_type": "stream",
     "text": [
      "<class 'pandas.core.frame.DataFrame'>\n",
      "RangeIndex: 1143 entries, 0 to 1142\n",
      "Data columns (total 13 columns):\n",
      " #   Column                Non-Null Count  Dtype  \n",
      "---  ------                --------------  -----  \n",
      " 0   fixed_acidity         1143 non-null   float64\n",
      " 1   volatile_acidity      1143 non-null   float64\n",
      " 2   citric_acid           1143 non-null   float64\n",
      " 3   residual_sugar        1143 non-null   float64\n",
      " 4   chlorides             1143 non-null   float64\n",
      " 5   free_sulfur_dioxide   1143 non-null   float64\n",
      " 6   total_sulfur_dioxide  1143 non-null   float64\n",
      " 7   density               1143 non-null   float64\n",
      " 8   pH                    1143 non-null   float64\n",
      " 9   sulphates             1143 non-null   float64\n",
      " 10  alcohol               1143 non-null   float64\n",
      " 11  quality               1143 non-null   int64  \n",
      " 12  Id                    1143 non-null   int64  \n",
      "dtypes: float64(11), int64(2)\n",
      "memory usage: 116.2 KB\n",
      "None\n"
     ]
    }
   ],
   "source": [
    "print(df.info())"
   ]
  },
  {
   "cell_type": "markdown",
   "metadata": {
    "id": "ksLxVn4_kbB6"
   },
   "source": [
    "4. Calculate first and third quartile of all columns of the dataset"
   ]
  },
  {
   "cell_type": "code",
   "execution_count": 17,
   "metadata": {
    "colab": {
     "base_uri": "https://localhost:8080/"
    },
    "id": "7mkaRLXhkdbC",
    "outputId": "1586df3b-d610-4acd-c827-f78f98055119"
   },
   "outputs": [
    {
     "name": "stdout",
     "output_type": "stream",
     "text": [
      "First Quartile of all Columns\n",
      "fixed_acidity             7.10000\n",
      "volatile_acidity          0.39250\n",
      "citric_acid               0.09000\n",
      "residual_sugar            1.90000\n",
      "chlorides                 0.07000\n",
      "free_sulfur_dioxide       7.00000\n",
      "total_sulfur_dioxide     21.00000\n",
      "density                   0.99557\n",
      "pH                        3.20500\n",
      "sulphates                 0.55000\n",
      "alcohol                   9.50000\n",
      "quality                   5.00000\n",
      "Id                      411.00000\n",
      "Name: 0.25, dtype: float64\n",
      "\n",
      "Third Quartile of all Columns\n",
      "fixed_acidity              9.100000\n",
      "volatile_acidity           0.640000\n",
      "citric_acid                0.420000\n",
      "residual_sugar             2.600000\n",
      "chlorides                  0.090000\n",
      "free_sulfur_dioxide       21.000000\n",
      "total_sulfur_dioxide      61.000000\n",
      "density                    0.997845\n",
      "pH                         3.400000\n",
      "sulphates                  0.730000\n",
      "alcohol                   11.100000\n",
      "quality                    6.000000\n",
      "Id                      1209.500000\n",
      "Name: 0.75, dtype: float64\n"
     ]
    }
   ],
   "source": [
    "first_quartile = df.quantile(0.25)\n",
    "third_quartile = df.quantile(0.75)\n",
    "print(\"First Quartile of all Columns\")\n",
    "print(first_quartile)\n",
    "print(\"\\nThird Quartile of all Columns\")\n",
    "print(third_quartile)"
   ]
  },
  {
   "cell_type": "markdown",
   "metadata": {
    "id": "pZCjqt0UkzDr"
   },
   "source": [
    "5. Are there any null values in the dataset? No Null Values"
   ]
  },
  {
   "cell_type": "code",
   "execution_count": 10,
   "metadata": {
    "colab": {
     "base_uri": "https://localhost:8080/"
    },
    "id": "l-RxBQ1Zk3YK",
    "outputId": "b2e09844-bda2-49a9-f64f-dc55e021509d"
   },
   "outputs": [
    {
     "name": "stdout",
     "output_type": "stream",
     "text": [
      "fixed_acidity           0\n",
      "volatile_acidity        0\n",
      "citric_acid             0\n",
      "residual_sugar          0\n",
      "chlorides               0\n",
      "free_sulfur_dioxide     0\n",
      "total_sulfur_dioxide    0\n",
      "density                 0\n",
      "pH                      0\n",
      "sulphates               0\n",
      "alcohol                 0\n",
      "quality                 0\n",
      "Id                      0\n",
      "dtype: int64\n"
     ]
    }
   ],
   "source": [
    "print(df.isnull().sum())"
   ]
  },
  {
   "cell_type": "markdown",
   "metadata": {
    "id": "JtJLJ9oXk5I6"
   },
   "source": [
    "6. Make a barplot of x = 'quality',y = 'volatile acidity'"
   ]
  },
  {
   "cell_type": "code",
   "execution_count": 14,
   "metadata": {
    "colab": {
     "base_uri": "https://localhost:8080/",
     "height": 472
    },
    "id": "EtDf_NiCmMXS",
    "outputId": "f1dbe94f-629a-46f8-86e2-87f8ab27a76c"
   },
   "outputs": [
    {
     "data": {
      "image/png": "[encoded data removed]",
      "text/plain": [
       "<Figure size 640x480 with 1 Axes>"
      ]
     },
     "metadata": {},
     "output_type": "display_data"
    }
   ],
   "source": [
    "plt.bar(df['quality'], df['volatile_acidity'])\n",
    "plt.title(\"Quality vs Volatile Acidity\")\n",
    "plt.xlabel(\"Quality\")\n",
    "plt.ylabel(\"Volatile Acidity\")\n",
    "plt.show()"
   ]
  }
 ],
 "metadata": {
  "colab": {
   "provenance": []
  },
  "kernelspec": {
   "display_name": "Python 3",
   "name": "python3"
  },
  "language_info": {
   "name": "python"
  }
 },
 "nbformat": 4,
 "nbformat_minor": 0
}
