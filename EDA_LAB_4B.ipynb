{
 "cells": [
  {
   "cell_type": "markdown",
   "metadata": {
    "id": "2CpusMiGlQw2"
   },
   "source": [
    "Assignment 4.2"
   ]
  },
  {
   "cell_type": "markdown",
   "metadata": {},
   "source": [
    "Date: 06/08/24"
   ]
  },
  {
   "cell_type": "markdown",
   "metadata": {
    "id": "usuIvHvKsJ4Y"
   },
   "source": [
    "**RFE (Recursive Feature Elimination)** \\\n",
    "Apply RFE on make_friedman1 dataset. \\\n",
    "Rank each features, select 3 features and print the shape of the matrix before and after feature selection. \\"
   ]
  },
  {
   "cell_type": "code",
   "execution_count": 5,
   "metadata": {
    "colab": {
     "base_uri": "https://localhost:8080/"
    },
    "id": "2erYST4jtG2Y",
    "outputId": "034d65dd-ba34-4523-af8a-d2095b10be2a"
   },
   "outputs": [
    {
     "name": "stdout",
     "output_type": "stream",
     "text": [
      "Shape of the matrix before feature selection:  (200, 10)\n",
      "Selected Ranking:  [1 1 7 1 2 8 3 4 5 6]\n",
      "Shape of the matrix after feature selection:  (200, 3)\n"
     ]
    }
   ],
   "source": [
    "from sklearn.datasets import make_friedman1\n",
    "from sklearn.feature_selection import RFE\n",
    "from sklearn.linear_model import LinearRegression\n",
    "import numpy as np\n",
    "\n",
    "X, y = make_friedman1(n_samples=200, n_features=10, random_state=32)\n",
    "\n",
    "print(\"Shape of the matrix before feature selection: \", X.shape)\n",
    "\n",
    "estimator = LinearRegression()\n",
    "selector = RFE(estimator, n_features_to_select=3, step=1)\n",
    "selector = selector.fit(X, y)\n",
    "\n",
    "print(\"Selected Ranking: \", selector.ranking_)\n",
    "\n",
    "X_selected = selector.transform(X)\n",
    "print(\"Shape of the matrix after feature selection: \", X_selected.shape)"
   ]
  },
  {
   "cell_type": "markdown",
   "metadata": {
    "id": "RuFrwyTQu04W"
   },
   "source": [
    "**SelectFromModel: ** \\\n",
    "Use california housing price dataset. Use SelectFromModel to select top three features.\\\n",
    "Use  SequentialFeatureSelection also to select top 3 features\\"
   ]
  },
  {
   "cell_type": "code",
   "execution_count": 8,
   "metadata": {
    "colab": {
     "base_uri": "https://localhost:8080/"
    },
    "id": "EweS0cmevTQ3",
    "outputId": "db01e724-0644-4c6f-8ee2-b0fb6b4b217f"
   },
   "outputs": [
    {
     "name": "stdout",
     "output_type": "stream",
     "text": [
      "Shape of the matrix before feature selection:  (20640, 8)\n",
      "Shape of feature matrix after SelectFromModel: (20640, 3)\n"
     ]
    }
   ],
   "source": [
    "from sklearn.datasets import fetch_california_housing\n",
    "from sklearn.feature_selection import SelectFromModel\n",
    "from sklearn.linear_model import LinearRegression\n",
    "\n",
    "\n",
    "california_housing = fetch_california_housing()\n",
    "X_california = california_housing.data\n",
    "y_california = california_housing.target\n",
    "\n",
    "print(\"Shape of the matrix before feature selection: \", X_california.shape)\n",
    "\n",
    "model = LinearRegression()\n",
    "selector = SelectFromModel(model, max_features=3)\n",
    "selector = selector.fit(X_california, y_california)\n",
    "\n",
    "X_selected = selector.transform(X_california)\n",
    "\n",
    "print(f\"Shape of feature matrix after SelectFromModel: {X_selected.shape}\")"
   ]
  },
  {
   "cell_type": "code",
   "execution_count": 14,
   "metadata": {
    "colab": {
     "base_uri": "https://localhost:8080/"
    },
    "id": "WazqjZawwHEt",
    "outputId": "a0aa93b4-33c2-42b0-984a-f98a08dc1bac"
   },
   "outputs": [
    {
     "name": "stdout",
     "output_type": "stream",
     "text": [
      "Shape of the matrix before feature selection:  (20640, 8)\n",
      "Shape of feature matrix after SelectFromModel: (20640, 3)\n",
      "[0 1 2]\n"
     ]
    }
   ],
   "source": [
    "#using sequential feature selection\n",
    "from sklearn.feature_selection import SequentialFeatureSelector\n",
    "\n",
    "california_housing = fetch_california_housing()\n",
    "X_california = california_housing.data\n",
    "y_california = california_housing.target\n",
    "\n",
    "print(\"Shape of the matrix before feature selection: \", X_california.shape)\n",
    "model = LinearRegression()\n",
    "selector = SequentialFeatureSelector(model, n_features_to_select=3)\n",
    "selector = selector.fit(X_california, y_california)\n",
    "\n",
    "X_selected = selector.transform(X_california)\n",
    "\n",
    "print(f\"Shape of feature matrix after SelectFromModel: {X_selected.shape}\")\n",
    "print(selector.get_support(indices = True))"
   ]
  }
 ],
 "metadata": {
  "colab": {
   "provenance": []
  },
  "kernelspec": {
   "display_name": "Python 3",
   "name": "python3"
  },
  "language_info": {
   "name": "python"
  }
 },
 "nbformat": 4,
 "nbformat_minor": 0
}
