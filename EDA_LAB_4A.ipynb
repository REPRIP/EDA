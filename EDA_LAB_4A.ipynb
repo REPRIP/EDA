{
 "cells": [
  {
   "cell_type": "markdown",
   "metadata": {
    "id": "2CpusMiGlQw2"
   },
   "source": [
    "Assignment 4.1"
   ]
  },
  {
   "cell_type": "markdown",
   "metadata": {},
   "source": [
    "Date: 06/08/24"
   ]
  },
  {
   "cell_type": "markdown",
   "metadata": {
    "id": "TdyMkXo6lLxE"
   },
   "source": [
    "**Filter based methods** \\\n",
    "**SelectKBest:** \\\n",
    "  It selects k highest scoring features based on a function and removes the rest of the features. Lets take an example of California Housing dataset.\\\n",
    "Select 3 most important features, since it is a regression problem, we can use only mutual_info_regression or f_regression scoring functions only.\\\n",
    " Calculate shape of feature matrix after feature selection"
   ]
  },
  {
   "cell_type": "code",
   "execution_count": 15,
   "metadata": {
    "colab": {
     "base_uri": "https://localhost:8080/"
    },
    "id": "6jqPsG4JlHQL",
    "outputId": "3c0c3804-8c96-48d6-f87f-09f185ee89c8"
   },
   "outputs": [
    {
     "name": "stdout",
     "output_type": "stream",
     "text": [
      "Shape of feature matrix before feature selection: (2000, 8)\n",
      "Shape of feature matrix after feature selection: (2000, 3)\n"
     ]
    }
   ],
   "source": [
    "import numpy as np\n",
    "import pandas as pd\n",
    "from sklearn.datasets import fetch_california_housing\n",
    "from sklearn.feature_selection import SelectKBest, mutual_info_regression\n",
    "\n",
    "\n",
    "california_housing = fetch_california_housing()\n",
    "#print(california_housing)\n",
    "X_california = california_housing.data[:2000, :]\n",
    "y_california = california_housing.target[:2000]\n",
    "\n",
    "print(\"Shape of feature matrix before feature selection:\", X_california.shape)\n",
    "\n",
    "X_new = SelectKBest(mutual_info_regression, k = 3).fit_transform(X_california, y_california)\n",
    "\n",
    "print(\"Shape of feature matrix after feature selection:\", X_new.shape)"
   ]
  },
  {
   "cell_type": "markdown",
   "metadata": {
    "id": "Z5Zq_O8cpymS"
   },
   "source": [
    "**SelectPercentile:**\\\n",
    "This is very similar to SelectKBest from previous section, the only difference is, it selects top\n",
    "Percentile of all features and drops the rest of the features.\n",
    "Similar to SelectKBest, it also uses a scoring function to decide importance of features.Let's use the california housing price dataset also for this API and calculate top 30 percentile of features."
   ]
  },
  {
   "cell_type": "code",
   "execution_count": 20,
   "metadata": {
    "colab": {
     "base_uri": "https://localhost:8080/"
    },
    "id": "WSsWBVPXp5GL",
    "outputId": "f293bafd-5902-4e41-8826-a2a4d14ae7a7"
   },
   "outputs": [
    {
     "name": "stdout",
     "output_type": "stream",
     "text": [
      "Shape of feature matrix after feature selection: (2000, 3)\n"
     ]
    }
   ],
   "source": [
    "from sklearn.feature_selection import SelectPercentile\n",
    "\n",
    "X_new_SP = SelectPercentile(mutual_info_regression, percentile = 30).fit_transform(X_california, y_california)\n",
    "\n",
    "print(\"Shape of feature matrix after feature selection:\", X_new_SP.shape)"
   ]
  },
  {
   "cell_type": "markdown",
   "metadata": {
    "id": "OZVBChsKqd_g"
   },
   "source": [
    "Similarly apply GenericUnivariateSelect also for same number of features on the same dataset."
   ]
  },
  {
   "cell_type": "code",
   "execution_count": 22,
   "metadata": {
    "colab": {
     "base_uri": "https://localhost:8080/"
    },
    "id": "Cd03jyyTqhN6",
    "outputId": "043f80ed-67ce-4134-bcc9-7259cd218688"
   },
   "outputs": [
    {
     "name": "stdout",
     "output_type": "stream",
     "text": [
      "Shape of feature matrix after feature selection: (2000, 3)\n"
     ]
    }
   ],
   "source": [
    "from sklearn.feature_selection import GenericUnivariateSelect\n",
    "\n",
    "X_new_G = GenericUnivariateSelect(mutual_info_regression, mode = 'percentile', param = 30).fit_transform(X_california, y_california)"
   ]
  }
 ],
 "metadata": {
  "colab": {
   "provenance": []
  },
  "kernelspec": {
   "display_name": "Python 3",
   "name": "python3"
  },
  "language_info": {
   "name": "python"
  }
 },
 "nbformat": 4,
 "nbformat_minor": 0
}
