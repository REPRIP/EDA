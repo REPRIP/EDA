{
 "cells": [
  {
   "cell_type": "markdown",
   "metadata": {
    "id": "c4H3AHxHg0aZ"
   },
   "source": [
    "Assignment 2"
   ]
  },
  {
   "cell_type": "markdown",
   "metadata": {},
   "source": [
    "Date: 23/07/24"
   ]
  },
  {
   "cell_type": "markdown",
   "metadata": {
    "id": "KwdEu0g8hFWR"
   },
   "source": [
    "1. What is Robustscaler? \\\n",
    "    Ans: Robust Scaler uses the median and IQR(Inter Quartile Range) to scale the data hence the scaled data is robust to outliers."
   ]
  },
  {
   "cell_type": "markdown",
   "metadata": {
    "id": "NOQDQjJRiifR"
   },
   "source": [
    "2. Apply RobustScaler() on X = [[ 1., -2.,  2.],[ -2.,  1.,  3.],[ 4.,  1., -2.]]"
   ]
  },
  {
   "cell_type": "code",
   "execution_count": 4,
   "metadata": {
    "colab": {
     "base_uri": "https://localhost:8080/"
    },
    "id": "B1fnubsmgt9h",
    "outputId": "2e0cc6be-9d6c-4510-db04-099bc45b4a3f"
   },
   "outputs": [
    {
     "data": {
      "text/plain": [
       "array([[ 0. , -2. ,  0. ],\n",
       "       [-1. ,  0. ,  0.4],\n",
       "       [ 1. ,  0. , -1.6]])"
      ]
     },
     "execution_count": 4,
     "metadata": {},
     "output_type": "execute_result"
    }
   ],
   "source": [
    "from sklearn.preprocessing import RobustScaler\n",
    "x = [[ 1, -2,  2],[ -2,  1,  3],[ 4,  1, -2]]\n",
    "scaler = RobustScaler()\n",
    "scaler.fit(x).transform(x)"
   ]
  },
  {
   "cell_type": "markdown",
   "metadata": {
    "id": "uG6r9cxZjlrE"
   },
   "source": [
    "3. Apply StandardScaler and RobustScaler() on [[5],[10],[12],[14],[18],[23] [49]]. Theoritically calculate  whether the calculated result  is matching with code result"
   ]
  },
  {
   "cell_type": "code",
   "execution_count": 8,
   "metadata": {
    "colab": {
     "base_uri": "https://localhost:8080/"
    },
    "id": "IkNr4uTwj-WN",
    "outputId": "0e6024ab-b43f-4e4d-cc4b-780958f82d9b"
   },
   "outputs": [
    {
     "name": "stdout",
     "output_type": "stream",
     "text": [
      "Standard Scaler\n",
      "[[-1.01920247]\n",
      " [-0.64761823]\n",
      " [-0.49898454]\n",
      " [-0.35035085]\n",
      " [-0.05308346]\n",
      " [ 0.31850077]\n",
      " [ 2.25073878]]\n",
      "Robust Scaler\n",
      "[[-0.94736842]\n",
      " [-0.42105263]\n",
      " [-0.21052632]\n",
      " [ 0.        ]\n",
      " [ 0.42105263]\n",
      " [ 0.94736842]\n",
      " [ 3.68421053]]\n"
     ]
    }
   ],
   "source": [
    "from sklearn.preprocessing import StandardScaler\n",
    "from sklearn.preprocessing import RobustScaler\n",
    "\n",
    "x = [[5],[10],[12],[14],[18],[23],[49]]\n",
    "\n",
    "std_scaler = StandardScaler().fit(x).transform(x)\n",
    "print(\"Standard Scaler\")\n",
    "print(std_scaler)\n",
    "\n",
    "rob_scaler = RobustScaler().fit(x).transform(x)\n",
    "print(\"Robust Scaler\")\n",
    "print(rob_scaler)"
   ]
  },
  {
   "cell_type": "code",
   "execution_count": 15,
   "metadata": {
    "colab": {
     "base_uri": "https://localhost:8080/"
    },
    "id": "sIpIu5nvm26W",
    "outputId": "3dddb6ba-2f7a-4cf5-eecf-cd226b2763b2"
   },
   "outputs": [
    {
     "name": "stdout",
     "output_type": "stream",
     "text": [
      "Mean:  18.714285714285715\n",
      "Standard Deviation:  13.455899244933278\n",
      "Standard Scaled Data: \n",
      " [[-1.01920247]\n",
      " [-0.64761823]\n",
      " [-0.49898454]\n",
      " [-0.35035085]\n",
      " [-0.05308346]\n",
      " [ 0.31850077]\n",
      " [ 2.25073878]]\n",
      "Median:  14.0\n",
      "IQR:  9.5\n",
      "Robust Scaled Data: \n",
      " [[-0.94736842]\n",
      " [-0.42105263]\n",
      " [-0.21052632]\n",
      " [ 0.        ]\n",
      " [ 0.42105263]\n",
      " [ 0.94736842]\n",
      " [ 3.68421053]]\n"
     ]
    }
   ],
   "source": [
    "#Theoretical Calculation\n",
    "import numpy as np\n",
    "x = np.array([[5],[10],[12],[14],[18],[23],[49]])\n",
    "\n",
    "#Standard Scaler\n",
    "mean = np.mean(x)\n",
    "print(\"Mean: \", mean)\n",
    "\n",
    "std = np.std(x)\n",
    "print(\"Standard Deviation: \", std)\n",
    "\n",
    "standard_scaled_data = (x - mean)/std\n",
    "print(\"Standard Scaled Data: \\n\", standard_scaled_data)\n",
    "\n",
    "#Robust Scaler\n",
    "median = np.median(x)\n",
    "print(\"Median: \", median)\n",
    "\n",
    "q1 = np.percentile(x, 25)\n",
    "q3 = np.percentile(x, 75)\n",
    "iqr = q3 - q1\n",
    "print(\"IQR: \", iqr)\n",
    "\n",
    "robust_scaled_data = (x - median)/iqr\n",
    "print(\"Robust Scaled Data: \\n\", robust_scaled_data)"
   ]
  },
  {
   "cell_type": "markdown",
   "metadata": {
    "id": "ky84irf0lJlx"
   },
   "source": [
    "4. Apply StandardScaler() on [[ 1., -1.,  2.],[ 2.,  0.,  0.],[ 0.,  1., -1.]]"
   ]
  },
  {
   "cell_type": "code",
   "execution_count": 9,
   "metadata": {
    "colab": {
     "base_uri": "https://localhost:8080/"
    },
    "id": "IU1BeesAlGbc",
    "outputId": "16aeed2a-39d8-42eb-c2fc-6c2ab431b0e4"
   },
   "outputs": [
    {
     "data": {
      "text/plain": [
       "array([[ 0.        , -1.22474487,  1.33630621],\n",
       "       [ 1.22474487,  0.        , -0.26726124],\n",
       "       [-1.22474487,  1.22474487, -1.06904497]])"
      ]
     },
     "execution_count": 9,
     "metadata": {},
     "output_type": "execute_result"
    }
   ],
   "source": [
    "x = [[ 1, -1,  2],[ 2,  0,  0],[ 0,  1, -1]]\n",
    "scaler = StandardScaler()\n",
    "scaler.fit(x).transform(x)"
   ]
  },
  {
   "cell_type": "markdown",
   "metadata": {
    "id": "EYGc6S7WmVHV"
   },
   "source": [
    "5. Apply MaxAbsScaler() on X = [[ 1., -1.,  2.],[ 2.,  0.,  0.],[ 0.,  1., -1.]]"
   ]
  },
  {
   "cell_type": "code",
   "execution_count": 13,
   "metadata": {
    "colab": {
     "base_uri": "https://localhost:8080/"
    },
    "id": "xYiteyhQmdMX",
    "outputId": "64bfd1ae-ec39-49e2-9e48-a325334a8f44"
   },
   "outputs": [
    {
     "data": {
      "text/plain": [
       "array([[ 0.5, -1. ,  1. ],\n",
       "       [ 1. ,  0. ,  0. ],\n",
       "       [ 0. ,  1. , -0.5]])"
      ]
     },
     "execution_count": 13,
     "metadata": {},
     "output_type": "execute_result"
    }
   ],
   "source": [
    "from sklearn.preprocessing import MaxAbsScaler\n",
    "x = [[ 1, -1,  2],[ 2,  0,  0],[ 0,  1, -1]]\n",
    "scaler = MaxAbsScaler()\n",
    "scaler.fit(x).transform(x)"
   ]
  },
  {
   "cell_type": "markdown",
   "metadata": {
    "id": "36lQJDioopBL"
   },
   "source": [
    "6. Apply OneHotEncoder() on [['Male', 1], ['Female', 3], ['Female', 2]]"
   ]
  },
  {
   "cell_type": "code",
   "execution_count": 16,
   "metadata": {
    "colab": {
     "base_uri": "https://localhost:8080/"
    },
    "id": "CV6PdH1For-D",
    "outputId": "1f6ab737-0469-4c8a-d046-cad7426a3e21"
   },
   "outputs": [
    {
     "data": {
      "text/plain": [
       "array([[0., 1., 1., 0., 0.],\n",
       "       [1., 0., 0., 0., 1.],\n",
       "       [1., 0., 0., 1., 0.]])"
      ]
     },
     "execution_count": 16,
     "metadata": {},
     "output_type": "execute_result"
    }
   ],
   "source": [
    "from sklearn.preprocessing import OneHotEncoder\n",
    "x = [['Male', 1], ['Female', 3], ['Female', 2]]\n",
    "encoder = OneHotEncoder()\n",
    "encoder.fit(x).transform(x).toarray()"
   ]
  },
  {
   "cell_type": "markdown",
   "metadata": {
    "id": "MriK1FQ0o1Ol"
   },
   "source": [
    "7. Apply MultiLabelBinarizer() on [{'sci-fi', 'thriller'}, {'comedy'}]. Apply classes_ method."
   ]
  },
  {
   "cell_type": "code",
   "execution_count": 19,
   "metadata": {
    "colab": {
     "base_uri": "https://localhost:8080/"
    },
    "id": "H0rmuPsFo5wy",
    "outputId": "25ab4462-ae13-4c58-9317-85df5fbf2dca"
   },
   "outputs": [
    {
     "data": {
      "text/plain": [
       "array(['comedy', 'sci-fi', 'thriller'], dtype=object)"
      ]
     },
     "execution_count": 19,
     "metadata": {},
     "output_type": "execute_result"
    }
   ],
   "source": [
    "from sklearn.preprocessing import MultiLabelBinarizer\n",
    "x = [{'sci-fi', 'thriller'}, {'comedy'}]\n",
    "encoder = MultiLabelBinarizer()\n",
    "encoder.fit(x).classes_"
   ]
  }
 ],
 "metadata": {
  "colab": {
   "provenance": []
  },
  "kernelspec": {
   "display_name": "Python 3",
   "name": "python3"
  },
  "language_info": {
   "name": "python"
  }
 },
 "nbformat": 4,
 "nbformat_minor": 0
}
