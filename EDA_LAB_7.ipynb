{
 "cells": [
  {
   "cell_type": "markdown",
   "metadata": {
    "id": "PkX_hg26vdSJ"
   },
   "source": [
    "Assignment 7"
   ]
  },
  {
   "cell_type": "markdown",
   "metadata": {},
   "source": [
    "Date: 27/08/24"
   ]
  },
  {
   "cell_type": "markdown",
   "metadata": {
    "id": "SQCXEwxfvdeA"
   },
   "source": [
    "Task 1:\n",
    "  Import California Housing dataset\n",
    "  Split the sample into train : test with a ratio of 70:30 and keeping random_state=42"
   ]
  },
  {
   "cell_type": "code",
   "execution_count": null,
   "metadata": {
    "id": "7VzATghxu-sF"
   },
   "outputs": [],
   "source": [
    "from sklearn.datasets import fetch_california_housing\n",
    "from sklearn.model_selection import train_test_split\n",
    "housing = fetch_california_housing()\n",
    "\n",
    "X_train, X_test, y_train, y_test = train_test_split(housing.data, housing.target, test_size= 0.70, train_size= 0.30, random_state= 42)"
   ]
  },
  {
   "cell_type": "markdown",
   "metadata": {
    "id": "YHpYY_XuwlWH"
   },
   "source": [
    "Task 2:\n",
    "Import Linear Regression Model\n",
    "Fit the data split earlier to the model Test and calculate the score"
   ]
  },
  {
   "cell_type": "code",
   "execution_count": null,
   "metadata": {
    "colab": {
     "base_uri": "https://localhost:8080/"
    },
    "id": "GMrnko53wiGZ",
    "outputId": "69d4461e-bb15-4a25-b491-e00aea50b789"
   },
   "outputs": [
    {
     "name": "stdout",
     "output_type": "stream",
     "text": [
      "0.6031107469263568\n",
      "0.6031107469263568\n"
     ]
    }
   ],
   "source": [
    "from sklearn.linear_model import LinearRegression\n",
    "from sklearn.metrics import r2_score\n",
    "\n",
    "model = LinearRegression()\n",
    "model.fit(X_train, y_train)\n",
    "print(model.score(X_test,y_test))\n",
    "print(r2_score(y_test, model.predict(X_test)))"
   ]
  },
  {
   "cell_type": "markdown",
   "metadata": {
    "id": "wgxgKNvfw9Fv"
   },
   "source": [
    "Task 3:\n",
    "Import diabetes dataset\n",
    "Split the sample into train : test with a ratio of 60:40 Keep random_state = 42"
   ]
  },
  {
   "cell_type": "code",
   "execution_count": null,
   "metadata": {
    "id": "0jJ_Ld0Sw_Aw"
   },
   "outputs": [],
   "source": [
    "from sklearn.datasets import load_diabetes\n",
    "diabetes = load_diabetes()\n",
    "\n",
    "X_train, X_test, y_train, y_test = train_test_split(diabetes.data, diabetes.target, test_size= 0.60, train_size= 0.40, random_state= 42)"
   ]
  },
  {
   "cell_type": "markdown",
   "metadata": {
    "id": "EB34_xdbxspb"
   },
   "source": [
    "Task 4:\n",
    "Import Linear Regression Model with intercept Fit the data split earlier to the model\n",
    "Test and calculate the score with intercept"
   ]
  },
  {
   "cell_type": "code",
   "execution_count": null,
   "metadata": {
    "colab": {
     "base_uri": "https://localhost:8080/"
    },
    "id": "c8vvri_Wxvhr",
    "outputId": "ed091366-113e-417a-b84d-c251a112807e"
   },
   "outputs": [
    {
     "name": "stdout",
     "output_type": "stream",
     "text": [
      "0.46823441017570777\n"
     ]
    }
   ],
   "source": [
    "from sklearn.linear_model import LinearRegression\n",
    "model = LinearRegression(fit_intercept=True)\n",
    "model.fit(X_train, y_train)\n",
    "print(model.score(X_test,y_test))"
   ]
  },
  {
   "cell_type": "markdown",
   "metadata": {
    "id": "gOEu3QDhyH7V"
   },
   "source": [
    "Task 5:\n",
    "Import Linear Regression Model without intercept Fit the data split earlier to the model\n",
    "Test and calculate the score without intercept"
   ]
  },
  {
   "cell_type": "code",
   "execution_count": null,
   "metadata": {
    "colab": {
     "base_uri": "https://localhost:8080/"
    },
    "id": "8lvDc4JbyKrD",
    "outputId": "53a5db40-293a-4382-faa4-2f3b35c0e5d4"
   },
   "outputs": [
    {
     "name": "stdout",
     "output_type": "stream",
     "text": [
      "-3.8800451913887466\n"
     ]
    }
   ],
   "source": [
    "from sklearn.linear_model import LinearRegression\n",
    "model = LinearRegression(fit_intercept=False)\n",
    "model.fit(X_train, y_train)\n",
    "print(model.score(X_test,y_test))"
   ]
  },
  {
   "cell_type": "markdown",
   "metadata": {
    "id": "Y_cYqQsIyQ-P"
   },
   "source": [
    "Task 6:\n",
    "Print value of intercept of the model trained on diabetes data\n",
    "Print the value of the coefficients (Note this will print an array with 10 values which is the same as shape of X)"
   ]
  },
  {
   "cell_type": "code",
   "execution_count": null,
   "metadata": {
    "colab": {
     "base_uri": "https://localhost:8080/"
    },
    "id": "vaB9F7YrySrM",
    "outputId": "8007236a-8638-4953-9d82-de35b6d770b7"
   },
   "outputs": [
    {
     "name": "stdout",
     "output_type": "stream",
     "text": [
      "148.7270490251931\n",
      "[ -34.48351848 -198.52093846  644.38563984  378.52530872 -742.5765935\n",
      "  457.52704875  276.94732401  398.34518695  560.20259807   14.49913225]\n"
     ]
    }
   ],
   "source": [
    "model = LinearRegression(fit_intercept=True)\n",
    "model.fit(X_train, y_train)\n",
    "print(model.intercept_)\n",
    "print(model.coef_)\n"
   ]
  },
  {
   "cell_type": "markdown",
   "metadata": {
    "id": "Xagdf5Pxysld"
   },
   "source": [
    "Task 7:\n",
    "Load diabetes dataset\n",
    "Split the dataset with test_size = 0.4\n",
    "Train with SGDRegressor and calculate score"
   ]
  },
  {
   "cell_type": "code",
   "execution_count": null,
   "metadata": {
    "colab": {
     "base_uri": "https://localhost:8080/"
    },
    "id": "QOUk8eo0yucl",
    "outputId": "a2df6f88-5f73-41aa-8704-d1de07d31777"
   },
   "outputs": [
    {
     "name": "stdout",
     "output_type": "stream",
     "text": [
      "0.5083986446579514\n"
     ]
    }
   ],
   "source": [
    "from sklearn.datasets import load_diabetes\n",
    "diabetes = load_diabetes()\n",
    "\n",
    "X_train, X_test, y_train, y_test = train_test_split(diabetes.data, diabetes.target, test_size= 0.40, random_state= 42)\n",
    "\n",
    "from sklearn.linear_model import SGDRegressor\n",
    "\n",
    "model1 = SGDRegressor(max_iter=10000)\n",
    "model1.fit(X_train, y_train, )\n",
    "print(model1.score(X_test,y_test))"
   ]
  }
 ],
 "metadata": {
  "colab": {
   "provenance": []
  },
  "kernelspec": {
   "display_name": "Python 3",
   "name": "python3"
  },
  "language_info": {
   "name": "python"
  }
 },
 "nbformat": 4,
 "nbformat_minor": 0
}
